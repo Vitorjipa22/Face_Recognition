{
 "cells": [
  {
   "cell_type": "markdown",
   "id": "c8bee21a",
   "metadata": {},
   "source": [
    "## importações"
   ]
  },
  {
   "cell_type": "code",
   "execution_count": 25,
   "id": "eda2c8a1",
   "metadata": {},
   "outputs": [],
   "source": [
    "import numpy as np\n",
    "import pandas as pd\n",
    "import matplotlib.pyplot as plt\n",
    "\n",
    "from sklearn.preprocessing import LabelEncoder\n",
    "from sklearn.model_selection import train_test_split\n",
    "from sklearn.neighbors import KNeighborsClassifier as KNN\n",
    "from sklearn.metrics import confusion_matrix\n",
    "from mlxtend.plotting import plot_confusion_matrix\n",
    "from sklearn import svm\n",
    "\n",
    "from tensorflow.keras.utils import to_categorical\n",
    "from tensorflow.keras import models\n",
    "from tensorflow.keras import layers\n",
    "\n",
    "import tensorflow as tf\n",
    "\n",
    "%matplotlib inline"
   ]
  },
  {
   "cell_type": "code",
   "execution_count": 26,
   "id": "3d091961",
   "metadata": {},
   "outputs": [],
   "source": [
    "def print_confusion_matrix(trueY, predictY):\n",
    "    cm = confusion_matrix(trueY, predictY)\n",
    "    total = sum(sum(cm))\n",
    "    acc = (cm[0, 0] + cm[1, 1]) / total\n",
    "    \n",
    "    print(\"Acurácia: {:.4f}\".format(acc))\n",
    "    \n",
    "    fig, ax = plot_confusion_matrix(conf_mat = cm, figsize=(5,5))\n",
    "    plt.show()"
   ]
  },
  {
   "cell_type": "code",
   "execution_count": 27,
   "id": "2b6bba1f",
   "metadata": {},
   "outputs": [
    {
     "data": {
      "text/html": [
       "<div>\n",
       "<style scoped>\n",
       "    .dataframe tbody tr th:only-of-type {\n",
       "        vertical-align: middle;\n",
       "    }\n",
       "\n",
       "    .dataframe tbody tr th {\n",
       "        vertical-align: top;\n",
       "    }\n",
       "\n",
       "    .dataframe thead th {\n",
       "        text-align: right;\n",
       "    }\n",
       "</style>\n",
       "<table border=\"1\" class=\"dataframe\">\n",
       "  <thead>\n",
       "    <tr style=\"text-align: right;\">\n",
       "      <th></th>\n",
       "      <th>0</th>\n",
       "      <th>1</th>\n",
       "      <th>2</th>\n",
       "      <th>3</th>\n",
       "      <th>4</th>\n",
       "      <th>5</th>\n",
       "      <th>6</th>\n",
       "      <th>7</th>\n",
       "      <th>8</th>\n",
       "      <th>9</th>\n",
       "      <th>...</th>\n",
       "      <th>119</th>\n",
       "      <th>120</th>\n",
       "      <th>121</th>\n",
       "      <th>122</th>\n",
       "      <th>123</th>\n",
       "      <th>124</th>\n",
       "      <th>125</th>\n",
       "      <th>126</th>\n",
       "      <th>127</th>\n",
       "      <th>target</th>\n",
       "    </tr>\n",
       "  </thead>\n",
       "  <tbody>\n",
       "    <tr>\n",
       "      <th>0</th>\n",
       "      <td>0.624656</td>\n",
       "      <td>-0.447745</td>\n",
       "      <td>0.624376</td>\n",
       "      <td>0.168215</td>\n",
       "      <td>-1.183529</td>\n",
       "      <td>1.161336</td>\n",
       "      <td>1.180575</td>\n",
       "      <td>-1.458736</td>\n",
       "      <td>0.925821</td>\n",
       "      <td>0.236734</td>\n",
       "      <td>...</td>\n",
       "      <td>-1.062742</td>\n",
       "      <td>0.596569</td>\n",
       "      <td>0.682379</td>\n",
       "      <td>0.292868</td>\n",
       "      <td>0.409854</td>\n",
       "      <td>1.634237</td>\n",
       "      <td>0.249691</td>\n",
       "      <td>-0.189478</td>\n",
       "      <td>-1.783221</td>\n",
       "      <td>glauciane</td>\n",
       "    </tr>\n",
       "    <tr>\n",
       "      <th>1</th>\n",
       "      <td>0.921183</td>\n",
       "      <td>-0.228285</td>\n",
       "      <td>1.023043</td>\n",
       "      <td>-0.362588</td>\n",
       "      <td>-0.759581</td>\n",
       "      <td>0.905878</td>\n",
       "      <td>1.626263</td>\n",
       "      <td>-1.420151</td>\n",
       "      <td>1.193603</td>\n",
       "      <td>0.791741</td>\n",
       "      <td>...</td>\n",
       "      <td>-1.375485</td>\n",
       "      <td>0.683259</td>\n",
       "      <td>0.827911</td>\n",
       "      <td>-0.167854</td>\n",
       "      <td>0.260004</td>\n",
       "      <td>1.484647</td>\n",
       "      <td>0.228390</td>\n",
       "      <td>-0.471342</td>\n",
       "      <td>-1.681182</td>\n",
       "      <td>glauciane</td>\n",
       "    </tr>\n",
       "    <tr>\n",
       "      <th>2</th>\n",
       "      <td>-0.037906</td>\n",
       "      <td>-0.927606</td>\n",
       "      <td>0.960223</td>\n",
       "      <td>0.052220</td>\n",
       "      <td>-1.199638</td>\n",
       "      <td>0.768999</td>\n",
       "      <td>1.396971</td>\n",
       "      <td>-0.688852</td>\n",
       "      <td>0.781067</td>\n",
       "      <td>0.692422</td>\n",
       "      <td>...</td>\n",
       "      <td>-1.764692</td>\n",
       "      <td>0.959367</td>\n",
       "      <td>0.720395</td>\n",
       "      <td>-0.322032</td>\n",
       "      <td>0.306745</td>\n",
       "      <td>1.598800</td>\n",
       "      <td>-0.141811</td>\n",
       "      <td>-0.795695</td>\n",
       "      <td>-1.841082</td>\n",
       "      <td>glauciane</td>\n",
       "    </tr>\n",
       "    <tr>\n",
       "      <th>3</th>\n",
       "      <td>0.677615</td>\n",
       "      <td>-0.018155</td>\n",
       "      <td>0.723042</td>\n",
       "      <td>-0.119465</td>\n",
       "      <td>-1.317164</td>\n",
       "      <td>1.009346</td>\n",
       "      <td>1.103884</td>\n",
       "      <td>-1.569089</td>\n",
       "      <td>0.324309</td>\n",
       "      <td>0.405659</td>\n",
       "      <td>...</td>\n",
       "      <td>-0.621289</td>\n",
       "      <td>0.506900</td>\n",
       "      <td>0.757364</td>\n",
       "      <td>0.247419</td>\n",
       "      <td>0.131484</td>\n",
       "      <td>1.497606</td>\n",
       "      <td>0.284347</td>\n",
       "      <td>-0.406723</td>\n",
       "      <td>-2.066759</td>\n",
       "      <td>glauciane</td>\n",
       "    </tr>\n",
       "    <tr>\n",
       "      <th>4</th>\n",
       "      <td>0.841432</td>\n",
       "      <td>-0.305600</td>\n",
       "      <td>0.955496</td>\n",
       "      <td>-0.508191</td>\n",
       "      <td>-0.417205</td>\n",
       "      <td>1.673414</td>\n",
       "      <td>0.809553</td>\n",
       "      <td>-1.041964</td>\n",
       "      <td>1.069607</td>\n",
       "      <td>0.473020</td>\n",
       "      <td>...</td>\n",
       "      <td>-0.451649</td>\n",
       "      <td>0.114553</td>\n",
       "      <td>0.892378</td>\n",
       "      <td>0.363496</td>\n",
       "      <td>0.414226</td>\n",
       "      <td>2.106771</td>\n",
       "      <td>-0.339435</td>\n",
       "      <td>-0.562916</td>\n",
       "      <td>-2.133557</td>\n",
       "      <td>glauciane</td>\n",
       "    </tr>\n",
       "  </tbody>\n",
       "</table>\n",
       "<p>5 rows × 129 columns</p>\n",
       "</div>"
      ],
      "text/plain": [
       "          0         1         2         3         4         5         6  \\\n",
       "0  0.624656 -0.447745  0.624376  0.168215 -1.183529  1.161336  1.180575   \n",
       "1  0.921183 -0.228285  1.023043 -0.362588 -0.759581  0.905878  1.626263   \n",
       "2 -0.037906 -0.927606  0.960223  0.052220 -1.199638  0.768999  1.396971   \n",
       "3  0.677615 -0.018155  0.723042 -0.119465 -1.317164  1.009346  1.103884   \n",
       "4  0.841432 -0.305600  0.955496 -0.508191 -0.417205  1.673414  0.809553   \n",
       "\n",
       "          7         8         9  ...       119       120       121       122  \\\n",
       "0 -1.458736  0.925821  0.236734  ... -1.062742  0.596569  0.682379  0.292868   \n",
       "1 -1.420151  1.193603  0.791741  ... -1.375485  0.683259  0.827911 -0.167854   \n",
       "2 -0.688852  0.781067  0.692422  ... -1.764692  0.959367  0.720395 -0.322032   \n",
       "3 -1.569089  0.324309  0.405659  ... -0.621289  0.506900  0.757364  0.247419   \n",
       "4 -1.041964  1.069607  0.473020  ... -0.451649  0.114553  0.892378  0.363496   \n",
       "\n",
       "        123       124       125       126       127     target  \n",
       "0  0.409854  1.634237  0.249691 -0.189478 -1.783221  glauciane  \n",
       "1  0.260004  1.484647  0.228390 -0.471342 -1.681182  glauciane  \n",
       "2  0.306745  1.598800 -0.141811 -0.795695 -1.841082  glauciane  \n",
       "3  0.131484  1.497606  0.284347 -0.406723 -2.066759  glauciane  \n",
       "4  0.414226  2.106771 -0.339435 -0.562916 -2.133557  glauciane  \n",
       "\n",
       "[5 rows x 129 columns]"
      ]
     },
     "execution_count": 27,
     "metadata": {},
     "output_type": "execute_result"
    }
   ],
   "source": [
    "df = pd.read_csv(\"faces.csv\")\n",
    "df = df.drop('Unnamed: 0', axis = 1)\n",
    "df.head()"
   ]
  },
  {
   "cell_type": "code",
   "execution_count": 28,
   "id": "261d81d2",
   "metadata": {},
   "outputs": [],
   "source": [
    "X = np.array(df.drop(\"target\", axis = 1))\n",
    "y = np.array(df.target)"
   ]
  },
  {
   "cell_type": "markdown",
   "id": "c99eb8e8",
   "metadata": {},
   "source": [
    "## Misturando e Separando os Dados"
   ]
  },
  {
   "cell_type": "code",
   "execution_count": 29,
   "id": "7bafdecb",
   "metadata": {},
   "outputs": [],
   "source": [
    "trainX, testX, trainY, testY = train_test_split(X, y,test_size=0.33, random_state = 0)"
   ]
  },
  {
   "cell_type": "code",
   "execution_count": 30,
   "id": "7d9e52b2",
   "metadata": {},
   "outputs": [
    {
     "data": {
      "text/plain": [
       "LabelEncoder()"
      ]
     },
     "execution_count": 30,
     "metadata": {},
     "output_type": "execute_result"
    }
   ],
   "source": [
    "out_encoder = LabelEncoder()\n",
    "out_encoder.fit(trainY)"
   ]
  },
  {
   "cell_type": "code",
   "execution_count": 31,
   "id": "ffbe38a6",
   "metadata": {},
   "outputs": [
    {
     "data": {
      "text/plain": [
       "array([0, 0, 0, ..., 0, 0, 0])"
      ]
     },
     "execution_count": 31,
     "metadata": {},
     "output_type": "execute_result"
    }
   ],
   "source": [
    "trainY = out_encoder.transform(trainY)\n",
    "trainY"
   ]
  },
  {
   "cell_type": "markdown",
   "id": "0e73565e",
   "metadata": {},
   "source": [
    "## KNN\n"
   ]
  },
  {
   "cell_type": "code",
   "execution_count": 32,
   "id": "1198a5ae",
   "metadata": {},
   "outputs": [],
   "source": [
    "knn = KNN(n_neighbors = 5)\n",
    "knn.fit(trainX, trainY)"
   ]
  },
  {
   "cell_type": "code",
   "execution_count": 34,
   "id": "c681367e",
   "metadata": {},
   "outputs": [
    {
     "data": {
      "text/plain": [
       "array([0, 0, 0, ..., 0, 0, 0])"
      ]
     },
     "execution_count": 34,
     "metadata": {},
     "output_type": "execute_result"
    }
   ],
   "source": [
    "yhat_train = knn.predict(trainX)\n",
    "yhat_test = knn.predict(testX)\n",
    "yhat_test"
   ]
  },
  {
   "cell_type": "code",
   "execution_count": 35,
   "id": "43ec1265",
   "metadata": {},
   "outputs": [
    {
     "data": {
      "text/plain": [
       "LabelEncoder()"
      ]
     },
     "execution_count": 35,
     "metadata": {},
     "output_type": "execute_result"
    }
   ],
   "source": [
    "out_encoder = LabelEncoder()\n",
    "out_encoder.fit(trainY)"
   ]
  },
  {
   "cell_type": "code",
   "execution_count": 36,
   "id": "c5cb04de",
   "metadata": {},
   "outputs": [],
   "source": [
    "trainY = out_encoder.transform(trainY)\n",
    "out_encoder.fit(testY)\n",
    "testY = np.array(out_encoder.transform(testY))"
   ]
  },
  {
   "cell_type": "code",
   "execution_count": 38,
   "id": "c45f0359",
   "metadata": {},
   "outputs": [
    {
     "name": "stdout",
     "output_type": "stream",
     "text": [
      "Acurácia: 0.9918\n"
     ]
    },
    {
     "data": {
      "image/png": "[encoded data removed]",
      "text/plain": [
       "<Figure size 360x360 with 1 Axes>"
      ]
     },
     "metadata": {
      "needs_background": "light"
     },
     "output_type": "display_data"
    }
   ],
   "source": [
    "print_confusion_matrix(testY, yhat_test)"
   ]
  },
  {
   "cell_type": "markdown",
   "id": "cc1541f3",
   "metadata": {},
   "source": [
    "## SVM"
   ]
  },
  {
   "cell_type": "code",
   "execution_count": 39,
   "id": "8752afc4",
   "metadata": {},
   "outputs": [],
   "source": [
    "svm = svm.SVC()\n",
    "svm.fit(trainX, trainY)"
   ]
  },
  {
   "cell_type": "code",
   "execution_count": 41,
   "id": "9b871299",
   "metadata": {},
   "outputs": [
    {
     "data": {
      "text/plain": [
       "array([0, 0, 0, ..., 0, 0, 0], dtype=int64)"
      ]
     },
     "execution_count": 41,
     "metadata": {},
     "output_type": "execute_result"
    }
   ],
   "source": [
    "yhat_train = svm.predict(trainX)\n",
    "yhat_test = svm.predict(testX)\n",
    "yhat_test"
   ]
  },
  {
   "cell_type": "code",
   "execution_count": 42,
   "id": "a8738921",
   "metadata": {},
   "outputs": [
    {
     "name": "stdout",
     "output_type": "stream",
     "text": [
      "Acurácia: 0.9925\n"
     ]
    },
    {
     "data": {
      "image/png": "[encoded data removed]",
      "text/plain": [
       "<Figure size 360x360 with 1 Axes>"
      ]
     },
     "metadata": {
      "needs_background": "light"
     },
     "output_type": "display_data"
    }
   ],
   "source": [
    "print_confusion_matrix(testY, yhat_test)"
   ]
  },
  {
   "cell_type": "markdown",
   "id": "9b6512f3",
   "metadata": {},
   "source": [
    "## Rede Neural"
   ]
  },
  {
   "cell_type": "code",
   "execution_count": 43,
   "id": "5b372b34",
   "metadata": {},
   "outputs": [],
   "source": [
    "trainY = to_categorical(trainY)"
   ]
  },
  {
   "cell_type": "code",
   "execution_count": 49,
   "id": "ea41294a",
   "metadata": {},
   "outputs": [
    {
     "name": "stdout",
     "output_type": "stream",
     "text": [
      "WARNING:tensorflow:Large dropout rate: 0.7 (>0.5). In TensorFlow 2.x, dropout() uses dropout rate instead of keep_prob. Please ensure that this is intended.\n",
      "Epoch 1/20\n",
      "19697/19697 [==============================] - 1s 59us/sample - loss: 0.0709 - acc: 0.9785\n",
      "Epoch 2/20\n",
      "19697/19697 [==============================] - 1s 58us/sample - loss: 0.0087 - acc: 0.9968\n",
      "Epoch 3/20\n",
      "19697/19697 [==============================] - 1s 57us/sample - loss: 0.0056 - acc: 0.9979\n",
      "Epoch 4/20\n",
      "19697/19697 [==============================] - 1s 57us/sample - loss: 0.0046 - acc: 0.9983\n",
      "Epoch 5/20\n",
      "19697/19697 [==============================] - 1s 57us/sample - loss: 0.0031 - acc: 0.9988\n",
      "Epoch 6/20\n",
      "19697/19697 [==============================] - 1s 57us/sample - loss: 0.0028 - acc: 0.9987\n",
      "Epoch 7/20\n",
      "19697/19697 [==============================] - 1s 57us/sample - loss: 0.0034 - acc: 0.9987\n",
      "Epoch 8/20\n",
      "19697/19697 [==============================] - 1s 57us/sample - loss: 0.0031 - acc: 0.9985\n",
      "Epoch 9/20\n",
      "19697/19697 [==============================] - 1s 57us/sample - loss: 0.0030 - acc: 0.9987\n",
      "Epoch 10/20\n",
      "19697/19697 [==============================] - 1s 57us/sample - loss: 0.0024 - acc: 0.9990\n",
      "Epoch 11/20\n",
      "19697/19697 [==============================] - 1s 57us/sample - loss: 0.0020 - acc: 0.9990\n",
      "Epoch 12/20\n",
      "19697/19697 [==============================] - 1s 57us/sample - loss: 0.0019 - acc: 0.9992\n",
      "Epoch 13/20\n",
      "19697/19697 [==============================] - 1s 57us/sample - loss: 0.0021 - acc: 0.9993\n",
      "Epoch 14/20\n",
      "19697/19697 [==============================] - 1s 58us/sample - loss: 0.0020 - acc: 0.9991\n",
      "Epoch 15/20\n",
      "19697/19697 [==============================] - 1s 57us/sample - loss: 0.0034 - acc: 0.9988\n",
      "Epoch 16/20\n",
      "19697/19697 [==============================] - 1s 57us/sample - loss: 0.0023 - acc: 0.9992\n",
      "Epoch 17/20\n",
      "19697/19697 [==============================] - 1s 57us/sample - loss: 0.0021 - acc: 0.9993\n",
      "Epoch 18/20\n",
      "19697/19697 [==============================] - 1s 57us/sample - loss: 0.0015 - acc: 0.9995\n",
      "Epoch 19/20\n",
      "19697/19697 [==============================] - 1s 57us/sample - loss: 0.0018 - acc: 0.9992\n",
      "Epoch 20/20\n",
      "19697/19697 [==============================] - 1s 57us/sample - loss: 0.0018 - acc: 0.9994\n"
     ]
    },
    {
     "data": {
      "text/plain": [
       "<tensorflow.python.keras.callbacks.History at 0x22d1525db88>"
      ]
     },
     "execution_count": 49,
     "metadata": {},
     "output_type": "execute_result"
    }
   ],
   "source": [
    "n_classes = len(df.target.unique())\n",
    "\n",
    "model = tf.keras.models.Sequential()\n",
    "model.add(tf.keras.layers.Dense(64, activation = 'relu', input_shape = (128,)))\n",
    "model.add(tf.keras.layers.Dropout(0.5))\n",
    "model.add(tf.keras.layers.Dense(n_classes, activation = 'softmax'))\n",
    "        \n",
    "model.compile(optimizer=\"adam\", loss= \"categorical_crossentropy\", metrics=['accuracy'])\n",
    "model.fit(trainX, trainY, epochs=20, batch_size = 8)"
   ]
  },
  {
   "cell_type": "code",
   "execution_count": 50,
   "id": "e9d73459",
   "metadata": {},
   "outputs": [],
   "source": [
    "yhat_train = model.predict(trainX)\n",
    "yhat_test = model.predict(testX)\n",
    "yhat_test = np.argmax(yhat_test, axis = 1)"
   ]
  },
  {
   "cell_type": "code",
   "execution_count": 52,
   "id": "24e3bca8",
   "metadata": {},
   "outputs": [
    {
     "name": "stdout",
     "output_type": "stream",
     "text": [
      "Acurácia: 0.9925\n"
     ]
    },
    {
     "data": {
      "image/png": "[encoded data removed]",
      "text/plain": [
       "<Figure size 360x360 with 1 Axes>"
      ]
     },
     "metadata": {
      "needs_background": "light"
     },
     "output_type": "display_data"
    }
   ],
   "source": [
    "print_confusion_matrix(testY, yhat_test)"
   ]
  }
 ],
 "metadata": {
  "kernelspec": {
   "display_name": "Python 3 (ipykernel)",
   "language": "python",
   "name": "python3"
  },
  "language_info": {
   "codemirror_mode": {
    "name": "ipython",
    "version": 3
   },
   "file_extension": ".py",
   "mimetype": "text/x-python",
   "name": "python",
   "nbconvert_exporter": "python",
   "pygments_lexer": "ipython3",
   "version": "3.7.16"
  }
 },
 "nbformat": 4,
 "nbformat_minor": 5
}
