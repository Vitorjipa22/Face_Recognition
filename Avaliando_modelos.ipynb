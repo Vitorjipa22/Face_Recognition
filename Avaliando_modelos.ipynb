{
 "cells": [
  {
   "cell_type": "code",
   "execution_count": 2,
   "id": "b3260a38",
   "metadata": {},
   "outputs": [],
   "source": [
    "import numpy as np\n",
    "import pandas as pd\n",
    "import matplotlib.pyplot as plt\n",
    "\n",
    "from sklearn.utils import shuffle\n",
    "from sklearn.preprocessing import LabelEncoder\n",
    "from sklearn.neighbors import KNeighborsClassifier\n",
    "from sklearn.metrics import confusion_matrix\n",
    "from sklearn.metrics import classification_report, confusion_matrix, accuracy_score\n",
    "from sklearn import svm\n",
    "\n",
    "from tensorflow.keras.utils import to_categorical\n",
    "from tensorflow.keras import models\n",
    "from tensorflow.keras import layers\n",
    "from tensorflow.keras import Sequential\n",
    "\n",
    "%matplotlib inline"
   ]
  },
  {
   "cell_type": "code",
   "execution_count": 3,
   "id": "233f3b49",
   "metadata": {},
   "outputs": [],
   "source": [
    "def comprehension(vetor, func):\n",
    "  array = list()\n",
    "\n",
    "  for i in range(len(vetor)):\n",
    "    if func == np.mean or func == np.reshape:\n",
    "      array.append(func(vetor[i], -1))\n",
    "    else:\n",
    "      array.append(func(vetor[i]))\n",
    "\n",
    "  return np.array(array)"
   ]
  },
  {
   "cell_type": "code",
   "execution_count": 4,
   "id": "6126b5f6",
   "metadata": {},
   "outputs": [
    {
     "data": {
      "text/html": [
       "<div>\n",
       "<style scoped>\n",
       "    .dataframe tbody tr th:only-of-type {\n",
       "        vertical-align: middle;\n",
       "    }\n",
       "\n",
       "    .dataframe tbody tr th {\n",
       "        vertical-align: top;\n",
       "    }\n",
       "\n",
       "    .dataframe thead th {\n",
       "        text-align: right;\n",
       "    }\n",
       "</style>\n",
       "<table border=\"1\" class=\"dataframe\">\n",
       "  <thead>\n",
       "    <tr style=\"text-align: right;\">\n",
       "      <th></th>\n",
       "      <th>Unnamed: 0</th>\n",
       "      <th>0</th>\n",
       "      <th>1</th>\n",
       "      <th>2</th>\n",
       "      <th>3</th>\n",
       "      <th>4</th>\n",
       "      <th>5</th>\n",
       "      <th>6</th>\n",
       "      <th>7</th>\n",
       "      <th>8</th>\n",
       "      <th>...</th>\n",
       "      <th>119</th>\n",
       "      <th>120</th>\n",
       "      <th>121</th>\n",
       "      <th>122</th>\n",
       "      <th>123</th>\n",
       "      <th>124</th>\n",
       "      <th>125</th>\n",
       "      <th>126</th>\n",
       "      <th>127</th>\n",
       "      <th>target</th>\n",
       "    </tr>\n",
       "  </thead>\n",
       "  <tbody>\n",
       "    <tr>\n",
       "      <th>0</th>\n",
       "      <td>0</td>\n",
       "      <td>0.624656</td>\n",
       "      <td>-0.447745</td>\n",
       "      <td>0.624376</td>\n",
       "      <td>0.168215</td>\n",
       "      <td>-1.183529</td>\n",
       "      <td>1.161336</td>\n",
       "      <td>1.180575</td>\n",
       "      <td>-1.458736</td>\n",
       "      <td>0.925821</td>\n",
       "      <td>...</td>\n",
       "      <td>-1.062742</td>\n",
       "      <td>0.596569</td>\n",
       "      <td>0.682379</td>\n",
       "      <td>0.292868</td>\n",
       "      <td>0.409854</td>\n",
       "      <td>1.634237</td>\n",
       "      <td>0.249691</td>\n",
       "      <td>-0.189478</td>\n",
       "      <td>-1.783221</td>\n",
       "      <td>glauciane</td>\n",
       "    </tr>\n",
       "    <tr>\n",
       "      <th>1</th>\n",
       "      <td>1</td>\n",
       "      <td>0.921183</td>\n",
       "      <td>-0.228285</td>\n",
       "      <td>1.023043</td>\n",
       "      <td>-0.362588</td>\n",
       "      <td>-0.759581</td>\n",
       "      <td>0.905878</td>\n",
       "      <td>1.626263</td>\n",
       "      <td>-1.420151</td>\n",
       "      <td>1.193603</td>\n",
       "      <td>...</td>\n",
       "      <td>-1.375485</td>\n",
       "      <td>0.683259</td>\n",
       "      <td>0.827911</td>\n",
       "      <td>-0.167854</td>\n",
       "      <td>0.260004</td>\n",
       "      <td>1.484647</td>\n",
       "      <td>0.228390</td>\n",
       "      <td>-0.471342</td>\n",
       "      <td>-1.681182</td>\n",
       "      <td>glauciane</td>\n",
       "    </tr>\n",
       "    <tr>\n",
       "      <th>2</th>\n",
       "      <td>2</td>\n",
       "      <td>-0.037906</td>\n",
       "      <td>-0.927606</td>\n",
       "      <td>0.960223</td>\n",
       "      <td>0.052220</td>\n",
       "      <td>-1.199638</td>\n",
       "      <td>0.768999</td>\n",
       "      <td>1.396971</td>\n",
       "      <td>-0.688852</td>\n",
       "      <td>0.781067</td>\n",
       "      <td>...</td>\n",
       "      <td>-1.764692</td>\n",
       "      <td>0.959367</td>\n",
       "      <td>0.720395</td>\n",
       "      <td>-0.322032</td>\n",
       "      <td>0.306745</td>\n",
       "      <td>1.598800</td>\n",
       "      <td>-0.141811</td>\n",
       "      <td>-0.795695</td>\n",
       "      <td>-1.841082</td>\n",
       "      <td>glauciane</td>\n",
       "    </tr>\n",
       "    <tr>\n",
       "      <th>3</th>\n",
       "      <td>3</td>\n",
       "      <td>0.677615</td>\n",
       "      <td>-0.018155</td>\n",
       "      <td>0.723042</td>\n",
       "      <td>-0.119465</td>\n",
       "      <td>-1.317164</td>\n",
       "      <td>1.009346</td>\n",
       "      <td>1.103884</td>\n",
       "      <td>-1.569089</td>\n",
       "      <td>0.324309</td>\n",
       "      <td>...</td>\n",
       "      <td>-0.621289</td>\n",
       "      <td>0.506900</td>\n",
       "      <td>0.757364</td>\n",
       "      <td>0.247419</td>\n",
       "      <td>0.131484</td>\n",
       "      <td>1.497606</td>\n",
       "      <td>0.284347</td>\n",
       "      <td>-0.406723</td>\n",
       "      <td>-2.066759</td>\n",
       "      <td>glauciane</td>\n",
       "    </tr>\n",
       "    <tr>\n",
       "      <th>4</th>\n",
       "      <td>4</td>\n",
       "      <td>0.841432</td>\n",
       "      <td>-0.305600</td>\n",
       "      <td>0.955496</td>\n",
       "      <td>-0.508191</td>\n",
       "      <td>-0.417205</td>\n",
       "      <td>1.673414</td>\n",
       "      <td>0.809553</td>\n",
       "      <td>-1.041964</td>\n",
       "      <td>1.069607</td>\n",
       "      <td>...</td>\n",
       "      <td>-0.451649</td>\n",
       "      <td>0.114553</td>\n",
       "      <td>0.892378</td>\n",
       "      <td>0.363496</td>\n",
       "      <td>0.414226</td>\n",
       "      <td>2.106771</td>\n",
       "      <td>-0.339435</td>\n",
       "      <td>-0.562916</td>\n",
       "      <td>-2.133557</td>\n",
       "      <td>glauciane</td>\n",
       "    </tr>\n",
       "  </tbody>\n",
       "</table>\n",
       "<p>5 rows × 130 columns</p>\n",
       "</div>"
      ],
      "text/plain": [
       "   Unnamed: 0         0         1         2         3         4         5  \\\n",
       "0           0  0.624656 -0.447745  0.624376  0.168215 -1.183529  1.161336   \n",
       "1           1  0.921183 -0.228285  1.023043 -0.362588 -0.759581  0.905878   \n",
       "2           2 -0.037906 -0.927606  0.960223  0.052220 -1.199638  0.768999   \n",
       "3           3  0.677615 -0.018155  0.723042 -0.119465 -1.317164  1.009346   \n",
       "4           4  0.841432 -0.305600  0.955496 -0.508191 -0.417205  1.673414   \n",
       "\n",
       "          6         7         8  ...       119       120       121       122  \\\n",
       "0  1.180575 -1.458736  0.925821  ... -1.062742  0.596569  0.682379  0.292868   \n",
       "1  1.626263 -1.420151  1.193603  ... -1.375485  0.683259  0.827911 -0.167854   \n",
       "2  1.396971 -0.688852  0.781067  ... -1.764692  0.959367  0.720395 -0.322032   \n",
       "3  1.103884 -1.569089  0.324309  ... -0.621289  0.506900  0.757364  0.247419   \n",
       "4  0.809553 -1.041964  1.069607  ... -0.451649  0.114553  0.892378  0.363496   \n",
       "\n",
       "        123       124       125       126       127     target  \n",
       "0  0.409854  1.634237  0.249691 -0.189478 -1.783221  glauciane  \n",
       "1  0.260004  1.484647  0.228390 -0.471342 -1.681182  glauciane  \n",
       "2  0.306745  1.598800 -0.141811 -0.795695 -1.841082  glauciane  \n",
       "3  0.131484  1.497606  0.284347 -0.406723 -2.066759  glauciane  \n",
       "4  0.414226  2.106771 -0.339435 -0.562916 -2.133557  glauciane  \n",
       "\n",
       "[5 rows x 130 columns]"
      ]
     },
     "execution_count": 4,
     "metadata": {},
     "output_type": "execute_result"
    }
   ],
   "source": [
    "df = pd.read_csv(\"faces.csv\") \n",
    "df.head()"
   ]
  },
  {
   "cell_type": "code",
   "execution_count": 5,
   "id": "e4d92f93",
   "metadata": {},
   "outputs": [
    {
     "data": {
      "text/plain": [
       "(484, 128)"
      ]
     },
     "execution_count": 5,
     "metadata": {},
     "output_type": "execute_result"
    }
   ],
   "source": [
    "X = np.array(df.drop([\"Unnamed: 0\",\"target\"], axis=1))\n",
    "X.shape"
   ]
  },
  {
   "cell_type": "code",
   "execution_count": 6,
   "id": "23e12d8c",
   "metadata": {},
   "outputs": [
    {
     "data": {
      "text/plain": [
       "(484,)"
      ]
     },
     "execution_count": 6,
     "metadata": {},
     "output_type": "execute_result"
    }
   ],
   "source": [
    "y = np.array(df.target)\n",
    "y.shape"
   ]
  },
  {
   "cell_type": "code",
   "execution_count": 7,
   "id": "ff4b73bf",
   "metadata": {},
   "outputs": [],
   "source": [
    "trainX, trainY = shuffle(X, y, random_state = 0) # misturando tudo "
   ]
  },
  {
   "cell_type": "markdown",
   "id": "96370c21",
   "metadata": {},
   "source": [
    "## TRATANDO AS LABELS"
   ]
  },
  {
   "cell_type": "code",
   "execution_count": 8,
   "id": "00433e87",
   "metadata": {},
   "outputs": [
    {
     "data": {
      "text/plain": [
       "LabelEncoder()"
      ]
     },
     "execution_count": 8,
     "metadata": {},
     "output_type": "execute_result"
    }
   ],
   "source": [
    "out_encoder = LabelEncoder() # enumerando as saidas\n",
    "out_encoder.fit(trainY)"
   ]
  },
  {
   "cell_type": "code",
   "execution_count": 9,
   "id": "6f3aedd4",
   "metadata": {},
   "outputs": [],
   "source": [
    "trainY = out_encoder.transform(trainY)\n",
    "# trainY"
   ]
  },
  {
   "cell_type": "markdown",
   "id": "3ae0203f",
   "metadata": {},
   "source": [
    "## IMPORTANDO DADOS DE VALIDAÇÃO "
   ]
  },
  {
   "cell_type": "code",
   "execution_count": 10,
   "id": "eae4439a",
   "metadata": {},
   "outputs": [
    {
     "data": {
      "text/html": [
       "<div>\n",
       "<style scoped>\n",
       "    .dataframe tbody tr th:only-of-type {\n",
       "        vertical-align: middle;\n",
       "    }\n",
       "\n",
       "    .dataframe tbody tr th {\n",
       "        vertical-align: top;\n",
       "    }\n",
       "\n",
       "    .dataframe thead th {\n",
       "        text-align: right;\n",
       "    }\n",
       "</style>\n",
       "<table border=\"1\" class=\"dataframe\">\n",
       "  <thead>\n",
       "    <tr style=\"text-align: right;\">\n",
       "      <th></th>\n",
       "      <th>0</th>\n",
       "      <th>1</th>\n",
       "      <th>2</th>\n",
       "      <th>3</th>\n",
       "      <th>4</th>\n",
       "      <th>5</th>\n",
       "      <th>6</th>\n",
       "      <th>7</th>\n",
       "      <th>8</th>\n",
       "      <th>9</th>\n",
       "      <th>...</th>\n",
       "      <th>119</th>\n",
       "      <th>120</th>\n",
       "      <th>121</th>\n",
       "      <th>122</th>\n",
       "      <th>123</th>\n",
       "      <th>124</th>\n",
       "      <th>125</th>\n",
       "      <th>126</th>\n",
       "      <th>127</th>\n",
       "      <th>target</th>\n",
       "    </tr>\n",
       "  </thead>\n",
       "  <tbody>\n",
       "    <tr>\n",
       "      <th>179</th>\n",
       "      <td>-0.463136</td>\n",
       "      <td>2.031797</td>\n",
       "      <td>-0.828680</td>\n",
       "      <td>0.677253</td>\n",
       "      <td>-0.438864</td>\n",
       "      <td>-1.767040</td>\n",
       "      <td>-1.271514</td>\n",
       "      <td>-1.461169</td>\n",
       "      <td>0.322037</td>\n",
       "      <td>0.581745</td>\n",
       "      <td>...</td>\n",
       "      <td>1.388556</td>\n",
       "      <td>1.173924</td>\n",
       "      <td>-0.699268</td>\n",
       "      <td>-1.318101</td>\n",
       "      <td>-0.913755</td>\n",
       "      <td>0.526818</td>\n",
       "      <td>0.256470</td>\n",
       "      <td>0.994789</td>\n",
       "      <td>0.812019</td>\n",
       "      <td>steferson</td>\n",
       "    </tr>\n",
       "    <tr>\n",
       "      <th>180</th>\n",
       "      <td>-0.553705</td>\n",
       "      <td>1.613878</td>\n",
       "      <td>-0.417959</td>\n",
       "      <td>0.387931</td>\n",
       "      <td>0.131402</td>\n",
       "      <td>-1.294715</td>\n",
       "      <td>-1.165642</td>\n",
       "      <td>-1.541113</td>\n",
       "      <td>0.309136</td>\n",
       "      <td>0.132032</td>\n",
       "      <td>...</td>\n",
       "      <td>1.045077</td>\n",
       "      <td>1.558633</td>\n",
       "      <td>-0.642279</td>\n",
       "      <td>-1.194365</td>\n",
       "      <td>-1.038592</td>\n",
       "      <td>0.515083</td>\n",
       "      <td>0.201941</td>\n",
       "      <td>0.076190</td>\n",
       "      <td>0.950706</td>\n",
       "      <td>steferson</td>\n",
       "    </tr>\n",
       "    <tr>\n",
       "      <th>181</th>\n",
       "      <td>-0.447034</td>\n",
       "      <td>2.120559</td>\n",
       "      <td>-1.170795</td>\n",
       "      <td>0.405479</td>\n",
       "      <td>-0.547222</td>\n",
       "      <td>-1.574009</td>\n",
       "      <td>-1.625558</td>\n",
       "      <td>-0.939384</td>\n",
       "      <td>-0.007186</td>\n",
       "      <td>0.310999</td>\n",
       "      <td>...</td>\n",
       "      <td>0.997773</td>\n",
       "      <td>1.265311</td>\n",
       "      <td>-0.490962</td>\n",
       "      <td>-1.330633</td>\n",
       "      <td>-0.533949</td>\n",
       "      <td>0.651528</td>\n",
       "      <td>0.539643</td>\n",
       "      <td>0.632580</td>\n",
       "      <td>0.760968</td>\n",
       "      <td>steferson</td>\n",
       "    </tr>\n",
       "    <tr>\n",
       "      <th>182</th>\n",
       "      <td>-0.676332</td>\n",
       "      <td>1.565943</td>\n",
       "      <td>-0.908553</td>\n",
       "      <td>0.160335</td>\n",
       "      <td>-0.093269</td>\n",
       "      <td>-1.125900</td>\n",
       "      <td>-0.745321</td>\n",
       "      <td>-1.402514</td>\n",
       "      <td>0.278516</td>\n",
       "      <td>0.107065</td>\n",
       "      <td>...</td>\n",
       "      <td>1.363476</td>\n",
       "      <td>1.532303</td>\n",
       "      <td>0.017134</td>\n",
       "      <td>-1.364406</td>\n",
       "      <td>-0.830635</td>\n",
       "      <td>0.263987</td>\n",
       "      <td>0.800664</td>\n",
       "      <td>0.107907</td>\n",
       "      <td>0.803421</td>\n",
       "      <td>steferson</td>\n",
       "    </tr>\n",
       "    <tr>\n",
       "      <th>183</th>\n",
       "      <td>-0.274737</td>\n",
       "      <td>1.392665</td>\n",
       "      <td>-1.028112</td>\n",
       "      <td>0.387853</td>\n",
       "      <td>-0.309734</td>\n",
       "      <td>-1.539772</td>\n",
       "      <td>-1.086364</td>\n",
       "      <td>-1.284094</td>\n",
       "      <td>0.407558</td>\n",
       "      <td>0.555285</td>\n",
       "      <td>...</td>\n",
       "      <td>0.800906</td>\n",
       "      <td>1.066285</td>\n",
       "      <td>-0.073062</td>\n",
       "      <td>-1.016491</td>\n",
       "      <td>-0.856045</td>\n",
       "      <td>0.317577</td>\n",
       "      <td>0.654202</td>\n",
       "      <td>-0.076276</td>\n",
       "      <td>0.688481</td>\n",
       "      <td>steferson</td>\n",
       "    </tr>\n",
       "  </tbody>\n",
       "</table>\n",
       "<p>5 rows × 129 columns</p>\n",
       "</div>"
      ],
      "text/plain": [
       "            0         1         2         3         4         5         6  \\\n",
       "179 -0.463136  2.031797 -0.828680  0.677253 -0.438864 -1.767040 -1.271514   \n",
       "180 -0.553705  1.613878 -0.417959  0.387931  0.131402 -1.294715 -1.165642   \n",
       "181 -0.447034  2.120559 -1.170795  0.405479 -0.547222 -1.574009 -1.625558   \n",
       "182 -0.676332  1.565943 -0.908553  0.160335 -0.093269 -1.125900 -0.745321   \n",
       "183 -0.274737  1.392665 -1.028112  0.387853 -0.309734 -1.539772 -1.086364   \n",
       "\n",
       "            7         8         9  ...       119       120       121  \\\n",
       "179 -1.461169  0.322037  0.581745  ...  1.388556  1.173924 -0.699268   \n",
       "180 -1.541113  0.309136  0.132032  ...  1.045077  1.558633 -0.642279   \n",
       "181 -0.939384 -0.007186  0.310999  ...  0.997773  1.265311 -0.490962   \n",
       "182 -1.402514  0.278516  0.107065  ...  1.363476  1.532303  0.017134   \n",
       "183 -1.284094  0.407558  0.555285  ...  0.800906  1.066285 -0.073062   \n",
       "\n",
       "          122       123       124       125       126       127     target  \n",
       "179 -1.318101 -0.913755  0.526818  0.256470  0.994789  0.812019  steferson  \n",
       "180 -1.194365 -1.038592  0.515083  0.201941  0.076190  0.950706  steferson  \n",
       "181 -1.330633 -0.533949  0.651528  0.539643  0.632580  0.760968  steferson  \n",
       "182 -1.364406 -0.830635  0.263987  0.800664  0.107907  0.803421  steferson  \n",
       "183 -1.016491 -0.856045  0.317577  0.654202 -0.076276  0.688481  steferson  \n",
       "\n",
       "[5 rows x 129 columns]"
      ]
     },
     "execution_count": 10,
     "metadata": {},
     "output_type": "execute_result"
    }
   ],
   "source": [
    "df_val = pd.read_csv(\"faces_validation.csv\")\n",
    "df_val = df_val.drop('Unnamed: 0', axis=1)\n",
    "df_val.tail()"
   ]
  },
  {
   "cell_type": "markdown",
   "id": "92f375bf",
   "metadata": {},
   "source": [
    "## PREPARANDO VARIAVEIS DE VALIDAÇÃO "
   ]
  },
  {
   "cell_type": "code",
   "execution_count": 11,
   "id": "8262721e",
   "metadata": {},
   "outputs": [],
   "source": [
    "valX = np.array(df_val.drop(\"target\", axis = 1))\n",
    "valY = np.array(df_val.target)"
   ]
  },
  {
   "cell_type": "code",
   "execution_count": 12,
   "id": "f4358c52",
   "metadata": {},
   "outputs": [
    {
     "data": {
      "text/plain": [
       "LabelEncoder()"
      ]
     },
     "execution_count": 12,
     "metadata": {},
     "output_type": "execute_result"
    }
   ],
   "source": [
    "out_encoder.fit(valY)"
   ]
  },
  {
   "cell_type": "code",
   "execution_count": 13,
   "id": "1b04c975",
   "metadata": {},
   "outputs": [],
   "source": [
    "valY = out_encoder.transform(valY)\n",
    "# valY"
   ]
  },
  {
   "cell_type": "markdown",
   "id": "aaa14da0",
   "metadata": {},
   "source": [
    "# AVALIANDO ALGORITMOS"
   ]
  },
  {
   "cell_type": "markdown",
   "id": "54604cf0",
   "metadata": {},
   "source": [
    "### KNN"
   ]
  },
  {
   "cell_type": "code",
   "execution_count": 18,
   "id": "a1f9829c",
   "metadata": {},
   "outputs": [],
   "source": [
    "knn = KNeighborsClassifier(n_neighbors = 1)"
   ]
  },
  {
   "cell_type": "code",
   "execution_count": 19,
   "id": "dd6a362f",
   "metadata": {},
   "outputs": [
    {
     "data": {
      "text/plain": [
       "KNeighborsClassifier(n_neighbors=1)"
      ]
     },
     "execution_count": 19,
     "metadata": {},
     "output_type": "execute_result"
    }
   ],
   "source": [
    "knn.fit(trainX, trainY) # treinando algoritmo com os dados de treino"
   ]
  },
  {
   "cell_type": "code",
   "execution_count": 20,
   "id": "fd1f9c51",
   "metadata": {},
   "outputs": [],
   "source": [
    "yhat_train_knn = knn.predict(trainX) # predizendo os resultados dos dados de treino\n",
    "yhat_val_knn = knn.predict(valX) # predizendo os resultados dos dados de validação\n",
    "yhat_train_knn"
   ]
  },
  {
   "cell_type": "code",
   "execution_count": 22,
   "id": "c52cf254",
   "metadata": {},
   "outputs": [
    {
     "name": "stdout",
     "output_type": "stream",
     "text": [
      "Matriz Confusa: \n",
      "[[72  0  0]\n",
      " [ 0 76  0]\n",
      " [ 0  0 36]] \n",
      "\n",
      "Relatório de classificação: \n",
      "               precision    recall  f1-score   support\n",
      "\n",
      "           0       1.00      1.00      1.00        72\n",
      "           1       1.00      1.00      1.00        76\n",
      "           2       1.00      1.00      1.00        36\n",
      "\n",
      "    accuracy                           1.00       184\n",
      "   macro avg       1.00      1.00      1.00       184\n",
      "weighted avg       1.00      1.00      1.00       184\n",
      "\n",
      "Acurácia do modelo:  1.0\n"
     ]
    }
   ],
   "source": [
    "# Imprimindo a matriz confusa\n",
    "print(\"Matriz Confusa: \")\n",
    "print(confusion_matrix(valY, yhat_val_knn), \"\\n\") \n",
    "\n",
    "# Imprimindo o relatório de classificação\n",
    "print(\"Relatório de classificação: \\n\", classification_report(valY, yhat_val_knn)) \n",
    "\n",
    "# Imprimindo o quão acurado foi o modelo\n",
    "print('Acurácia do modelo: ' , accuracy_score(valY, yhat_val_knn))"
   ]
  },
  {
   "cell_type": "markdown",
   "id": "69b410c7",
   "metadata": {},
   "source": [
    "### SVM"
   ]
  },
  {
   "cell_type": "code",
   "execution_count": 24,
   "id": "dd619136",
   "metadata": {},
   "outputs": [
    {
     "data": {
      "text/plain": [
       "SVC()"
      ]
     },
     "execution_count": 24,
     "metadata": {},
     "output_type": "execute_result"
    }
   ],
   "source": [
    "svm = svm.SVC()\n",
    "svm.fit(trainX,trainY)"
   ]
  },
  {
   "cell_type": "code",
   "execution_count": 25,
   "id": "165163ec",
   "metadata": {},
   "outputs": [],
   "source": [
    "yhat_train_svm = svm.predict(trainX)\n",
    "yhat_val_svm = svm.predict(valX)"
   ]
  },
  {
   "cell_type": "code",
   "execution_count": 26,
   "id": "09be7c47",
   "metadata": {},
   "outputs": [
    {
     "name": "stdout",
     "output_type": "stream",
     "text": [
      "Matriz Confusa: \n",
      "[[72  0  0]\n",
      " [ 0 76  0]\n",
      " [ 0  0 36]] \n",
      "\n",
      "Relatório de classificação: \n",
      "               precision    recall  f1-score   support\n",
      "\n",
      "           0       1.00      1.00      1.00        72\n",
      "           1       1.00      1.00      1.00        76\n",
      "           2       1.00      1.00      1.00        36\n",
      "\n",
      "    accuracy                           1.00       184\n",
      "   macro avg       1.00      1.00      1.00       184\n",
      "weighted avg       1.00      1.00      1.00       184\n",
      "\n",
      "Acurácia do modelo:  1.0\n"
     ]
    }
   ],
   "source": [
    "# Imprimindo a matriz confusa\n",
    "print(\"Matriz Confusa: \")\n",
    "print(confusion_matrix(valY, yhat_val_svm), \"\\n\") \n",
    "\n",
    "# Imprimindo o relatório de classificação\n",
    "print(\"Relatório de classificação: \\n\", classification_report(valY, yhat_val_svm)) \n",
    "\n",
    "# Imprimindo o quão acurado foi o modelo\n",
    "print('Acurácia do modelo: ' , accuracy_score(valY, yhat_val_svm))"
   ]
  },
  {
   "cell_type": "markdown",
   "id": "87b3d849",
   "metadata": {},
   "source": [
    "### KERAS"
   ]
  },
  {
   "cell_type": "code",
   "execution_count": 27,
   "id": "7c5d9086",
   "metadata": {},
   "outputs": [],
   "source": [
    "trainY = to_categorical(trainY)\n"
   ]
  },
  {
   "cell_type": "code",
   "execution_count": 28,
   "id": "eee3794b",
   "metadata": {},
   "outputs": [],
   "source": [
    "valY = to_categorical(valY)\n",
    "# valY"
   ]
  },
  {
   "cell_type": "code",
   "execution_count": 29,
   "id": "0b7dcdd3",
   "metadata": {},
   "outputs": [
    {
     "name": "stdout",
     "output_type": "stream",
     "text": [
      "Model: \"sequential\"\n",
      "_________________________________________________________________\n",
      " Layer (type)                Output Shape              Param #   \n",
      "=================================================================\n",
      " dense (Dense)               (None, 64)                8256      \n",
      "                                                                 \n",
      " dropout (Dropout)           (None, 64)                0         \n",
      "                                                                 \n",
      " dense_1 (Dense)             (None, 3)                 195       \n",
      "                                                                 \n",
      "=================================================================\n",
      "Total params: 8,451\n",
      "Trainable params: 8,451\n",
      "Non-trainable params: 0\n",
      "_________________________________________________________________\n"
     ]
    }
   ],
   "source": [
    "model = models.Sequential()\n",
    "model.add(layers.Dense(64, activation = 'relu', input_shape = (128,)))\n",
    "model.add(layers.Dropout(0.5))\n",
    "model.add(layers.Dense(3, activation=\"softmax\"))\n",
    "\n",
    "model.summary()"
   ]
  },
  {
   "cell_type": "code",
   "execution_count": 30,
   "id": "9c2d04e5",
   "metadata": {},
   "outputs": [],
   "source": [
    "model.compile(optimizer=\"adam\", loss= \"categorical_crossentropy\", metrics=['accuracy'])"
   ]
  },
  {
   "cell_type": "code",
   "execution_count": 33,
   "id": "436773ac",
   "metadata": {},
   "outputs": [
    {
     "name": "stdout",
     "output_type": "stream",
     "text": [
      "Epoch 1/100\n"
     ]
    },
    {
     "ename": "ValueError",
     "evalue": "in user code:\n\n    File \"/home/vitor/anaconda3/lib/python3.7/site-packages/keras/engine/training.py\", line 878, in train_function  *\n        return step_function(self, iterator)\n    File \"/home/vitor/anaconda3/lib/python3.7/site-packages/keras/engine/training.py\", line 867, in step_function  **\n        outputs = model.distribute_strategy.run(run_step, args=(data,))\n    File \"/home/vitor/anaconda3/lib/python3.7/site-packages/keras/engine/training.py\", line 860, in run_step  **\n        outputs = model.train_step(data)\n    File \"/home/vitor/anaconda3/lib/python3.7/site-packages/keras/engine/training.py\", line 810, in train_step\n        y, y_pred, sample_weight, regularization_losses=self.losses)\n    File \"/home/vitor/anaconda3/lib/python3.7/site-packages/keras/engine/compile_utils.py\", line 201, in __call__\n        loss_value = loss_obj(y_t, y_p, sample_weight=sw)\n    File \"/home/vitor/anaconda3/lib/python3.7/site-packages/keras/losses.py\", line 141, in __call__\n        losses = call_fn(y_true, y_pred)\n    File \"/home/vitor/anaconda3/lib/python3.7/site-packages/keras/losses.py\", line 245, in call  **\n        return ag_fn(y_true, y_pred, **self._fn_kwargs)\n    File \"/home/vitor/anaconda3/lib/python3.7/site-packages/keras/losses.py\", line 1665, in categorical_crossentropy\n        y_true, y_pred, from_logits=from_logits, axis=axis)\n    File \"/home/vitor/anaconda3/lib/python3.7/site-packages/keras/backend.py\", line 4994, in categorical_crossentropy\n        target.shape.assert_is_compatible_with(output.shape)\n\n    ValueError: Shapes (None, 1) and (None, 3) are incompatible\n",
     "output_type": "error",
     "traceback": [
      "\u001b[0;31m---------------------------------------------------------------------------\u001b[0m",
      "\u001b[0;31mValueError\u001b[0m                                Traceback (most recent call last)",
      "\u001b[0;32m<ipython-input-33-cff26e41ada7>\u001b[0m in \u001b[0;36m<module>\u001b[0;34m\u001b[0m\n\u001b[0;32m----> 1\u001b[0;31m \u001b[0mmodel\u001b[0m\u001b[0;34m.\u001b[0m\u001b[0mfit\u001b[0m\u001b[0;34m(\u001b[0m\u001b[0mtrainX\u001b[0m\u001b[0;34m,\u001b[0m \u001b[0mtrainY\u001b[0m\u001b[0;34m,\u001b[0m \u001b[0mepochs\u001b[0m\u001b[0;34m=\u001b[0m\u001b[0;36m100\u001b[0m\u001b[0;34m,\u001b[0m \u001b[0mbatch_size\u001b[0m \u001b[0;34m=\u001b[0m \u001b[0;36m8\u001b[0m\u001b[0;34m)\u001b[0m\u001b[0;34m\u001b[0m\u001b[0;34m\u001b[0m\u001b[0m\n\u001b[0m\u001b[1;32m      2\u001b[0m \u001b[0mtest_loss\u001b[0m\u001b[0;34m,\u001b[0m \u001b[0mtest_acc\u001b[0m \u001b[0;34m=\u001b[0m \u001b[0mmodel\u001b[0m\u001b[0;34m.\u001b[0m\u001b[0mevaluate\u001b[0m\u001b[0;34m(\u001b[0m\u001b[0mvalY\u001b[0m\u001b[0;34m,\u001b[0m  \u001b[0myhat_val_keras\u001b[0m\u001b[0;34m,\u001b[0m \u001b[0mverbose\u001b[0m\u001b[0;34m=\u001b[0m\u001b[0;36m2\u001b[0m\u001b[0;34m)\u001b[0m\u001b[0;34m\u001b[0m\u001b[0;34m\u001b[0m\u001b[0m\n",
      "\u001b[0;32m~/anaconda3/lib/python3.7/site-packages/keras/utils/traceback_utils.py\u001b[0m in \u001b[0;36merror_handler\u001b[0;34m(*args, **kwargs)\u001b[0m\n\u001b[1;32m     65\u001b[0m     \u001b[0;32mexcept\u001b[0m \u001b[0mException\u001b[0m \u001b[0;32mas\u001b[0m \u001b[0me\u001b[0m\u001b[0;34m:\u001b[0m  \u001b[0;31m# pylint: disable=broad-except\u001b[0m\u001b[0;34m\u001b[0m\u001b[0;34m\u001b[0m\u001b[0m\n\u001b[1;32m     66\u001b[0m       \u001b[0mfiltered_tb\u001b[0m \u001b[0;34m=\u001b[0m \u001b[0m_process_traceback_frames\u001b[0m\u001b[0;34m(\u001b[0m\u001b[0me\u001b[0m\u001b[0;34m.\u001b[0m\u001b[0m__traceback__\u001b[0m\u001b[0;34m)\u001b[0m\u001b[0;34m\u001b[0m\u001b[0;34m\u001b[0m\u001b[0m\n\u001b[0;32m---> 67\u001b[0;31m       \u001b[0;32mraise\u001b[0m \u001b[0me\u001b[0m\u001b[0;34m.\u001b[0m\u001b[0mwith_traceback\u001b[0m\u001b[0;34m(\u001b[0m\u001b[0mfiltered_tb\u001b[0m\u001b[0;34m)\u001b[0m \u001b[0;32mfrom\u001b[0m \u001b[0;32mNone\u001b[0m\u001b[0;34m\u001b[0m\u001b[0;34m\u001b[0m\u001b[0m\n\u001b[0m\u001b[1;32m     68\u001b[0m     \u001b[0;32mfinally\u001b[0m\u001b[0;34m:\u001b[0m\u001b[0;34m\u001b[0m\u001b[0;34m\u001b[0m\u001b[0m\n\u001b[1;32m     69\u001b[0m       \u001b[0;32mdel\u001b[0m \u001b[0mfiltered_tb\u001b[0m\u001b[0;34m\u001b[0m\u001b[0;34m\u001b[0m\u001b[0m\n",
      "\u001b[0;32m~/anaconda3/lib/python3.7/site-packages/tensorflow/python/framework/func_graph.py\u001b[0m in \u001b[0;36mautograph_handler\u001b[0;34m(*args, **kwargs)\u001b[0m\n\u001b[1;32m   1127\u001b[0m           \u001b[0;32mexcept\u001b[0m \u001b[0mException\u001b[0m \u001b[0;32mas\u001b[0m \u001b[0me\u001b[0m\u001b[0;34m:\u001b[0m  \u001b[0;31m# pylint:disable=broad-except\u001b[0m\u001b[0;34m\u001b[0m\u001b[0;34m\u001b[0m\u001b[0m\n\u001b[1;32m   1128\u001b[0m             \u001b[0;32mif\u001b[0m \u001b[0mhasattr\u001b[0m\u001b[0;34m(\u001b[0m\u001b[0me\u001b[0m\u001b[0;34m,\u001b[0m \u001b[0;34m\"ag_error_metadata\"\u001b[0m\u001b[0;34m)\u001b[0m\u001b[0;34m:\u001b[0m\u001b[0;34m\u001b[0m\u001b[0;34m\u001b[0m\u001b[0m\n\u001b[0;32m-> 1129\u001b[0;31m               \u001b[0;32mraise\u001b[0m \u001b[0me\u001b[0m\u001b[0;34m.\u001b[0m\u001b[0mag_error_metadata\u001b[0m\u001b[0;34m.\u001b[0m\u001b[0mto_exception\u001b[0m\u001b[0;34m(\u001b[0m\u001b[0me\u001b[0m\u001b[0;34m)\u001b[0m\u001b[0;34m\u001b[0m\u001b[0;34m\u001b[0m\u001b[0m\n\u001b[0m\u001b[1;32m   1130\u001b[0m             \u001b[0;32melse\u001b[0m\u001b[0;34m:\u001b[0m\u001b[0;34m\u001b[0m\u001b[0;34m\u001b[0m\u001b[0m\n\u001b[1;32m   1131\u001b[0m               \u001b[0;32mraise\u001b[0m\u001b[0;34m\u001b[0m\u001b[0;34m\u001b[0m\u001b[0m\n",
      "\u001b[0;31mValueError\u001b[0m: in user code:\n\n    File \"/home/vitor/anaconda3/lib/python3.7/site-packages/keras/engine/training.py\", line 878, in train_function  *\n        return step_function(self, iterator)\n    File \"/home/vitor/anaconda3/lib/python3.7/site-packages/keras/engine/training.py\", line 867, in step_function  **\n        outputs = model.distribute_strategy.run(run_step, args=(data,))\n    File \"/home/vitor/anaconda3/lib/python3.7/site-packages/keras/engine/training.py\", line 860, in run_step  **\n        outputs = model.train_step(data)\n    File \"/home/vitor/anaconda3/lib/python3.7/site-packages/keras/engine/training.py\", line 810, in train_step\n        y, y_pred, sample_weight, regularization_losses=self.losses)\n    File \"/home/vitor/anaconda3/lib/python3.7/site-packages/keras/engine/compile_utils.py\", line 201, in __call__\n        loss_value = loss_obj(y_t, y_p, sample_weight=sw)\n    File \"/home/vitor/anaconda3/lib/python3.7/site-packages/keras/losses.py\", line 141, in __call__\n        losses = call_fn(y_true, y_pred)\n    File \"/home/vitor/anaconda3/lib/python3.7/site-packages/keras/losses.py\", line 245, in call  **\n        return ag_fn(y_true, y_pred, **self._fn_kwargs)\n    File \"/home/vitor/anaconda3/lib/python3.7/site-packages/keras/losses.py\", line 1665, in categorical_crossentropy\n        y_true, y_pred, from_logits=from_logits, axis=axis)\n    File \"/home/vitor/anaconda3/lib/python3.7/site-packages/keras/backend.py\", line 4994, in categorical_crossentropy\n        target.shape.assert_is_compatible_with(output.shape)\n\n    ValueError: Shapes (None, 1) and (None, 3) are incompatible\n"
     ]
    }
   ],
   "source": [
    "model.fit(trainX, trainY, epochs=100, batch_size = 8)"
   ]
  },
  {
   "cell_type": "code",
   "execution_count": 32,
   "id": "e069d828",
   "metadata": {},
   "outputs": [],
   "source": [
    "yhat_val_keras = model.predict(valX)\n",
    "yhat_train_keras = model.predict(trainX)\n",
    "yhat_train_keras = comprehension(yhat_train_keras, np.argmax)\n",
    "yhat_val_keras = comprehension(yhat_val_keras, np.argmax)\n",
    "trainY = np.argmax(trainY, axis = 1)\n",
    "# yhat_train_keras\n",
    "# trainY\n"
   ]
  },
  {
   "cell_type": "code",
   "execution_count": null,
   "id": "f48c07b3",
   "metadata": {},
   "outputs": [],
   "source": [
    "valY = np.argmax(valY, axis = 1)"
   ]
  },
  {
   "cell_type": "code",
   "execution_count": null,
   "id": "8b41d1f4",
   "metadata": {},
   "outputs": [],
   "source": []
  },
  {
   "cell_type": "code",
   "execution_count": null,
   "id": "0852b95a",
   "metadata": {},
   "outputs": [],
   "source": []
  },
  {
   "cell_type": "code",
   "execution_count": null,
   "id": "09716a23",
   "metadata": {},
   "outputs": [],
   "source": []
  }
 ],
 "metadata": {
  "kernelspec": {
   "display_name": "Python 3",
   "language": "python",
   "name": "python3"
  },
  "language_info": {
   "codemirror_mode": {
    "name": "ipython",
    "version": 3
   },
   "file_extension": ".py",
   "mimetype": "text/x-python",
   "name": "python",
   "nbconvert_exporter": "python",
   "pygments_lexer": "ipython3",
   "version": "3.7.7"
  }
 },
 "nbformat": 4,
 "nbformat_minor": 5
}
